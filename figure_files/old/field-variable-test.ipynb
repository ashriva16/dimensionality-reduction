{
 "cells": [
  {
   "cell_type": "code",
   "execution_count": 1,
   "id": "971d1f65",
   "metadata": {},
   "outputs": [],
   "source": [
    "import numpy as np\n",
    "from matplotlib import pyplot as plt"
   ]
  },
  {
   "cell_type": "code",
   "execution_count": 3,
   "id": "2abc42b8",
   "metadata": {},
   "outputs": [],
   "source": [
    "img = plt.imread(\"rdf_tf149_img.png\")"
   ]
  },
  {
   "cell_type": "code",
   "execution_count": 4,
   "id": "10d5bda6",
   "metadata": {},
   "outputs": [
    {
     "data": {
      "text/plain": [
       "(800, 1600, 4)"
      ]
     },
     "execution_count": 4,
     "metadata": {},
     "output_type": "execute_result"
    }
   ],
   "source": [
    "img.shape"
   ]
  },
  {
   "cell_type": "code",
   "execution_count": null,
   "id": "eef64f47",
   "metadata": {},
   "outputs": [],
   "source": []
  }
 ],
 "metadata": {
  "kernelspec": {
   "display_name": "Python 3 (ipykernel)",
   "language": "python",
   "name": "python3"
  },
  "language_info": {
   "codemirror_mode": {
    "name": "ipython",
    "version": 3
   },
   "file_extension": ".py",
   "mimetype": "text/x-python",
   "name": "python",
   "nbconvert_exporter": "python",
   "pygments_lexer": "ipython3",
   "version": "3.9.7"
  }
 },
 "nbformat": 4,
 "nbformat_minor": 5
}
